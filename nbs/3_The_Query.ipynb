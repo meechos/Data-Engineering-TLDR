{
  "nbformat": 4,
  "nbformat_minor": 0,
  "metadata": {
    "colab": {
      "provenance": [],
      "toc_visible": true
    },
    "kernelspec": {
      "name": "python3",
      "display_name": "Python 3"
    },
    "language_info": {
      "name": "python"
    }
  },
  "cells": [
    {
      "cell_type": "markdown",
      "source": [
        "# 3. SQL Intermediate Queries"
      ],
      "metadata": {
        "id": "fzhA9EG8OSd8"
      }
    },
    {
      "cell_type": "markdown",
      "source": [
        "## 3.1 Aggregate function\n",
        "\n",
        "Aggregate functions perform calculations on a set of values, and returns a single value. These functions allow us to perform calculations on the data in a database.\n",
        "\n",
        "- Aggregate functions are often used with the `GROUP BY` clause of the `SELECT` statement.\n",
        "- All aggregate functions are deterministic. In other words, aggregate functions return the same value each time that they are called, when called with a specific set of input values.\n",
        "\n",
        "### 3.1.1 Basic aggregate operations\n",
        "\n",
        "Example:\n",
        "\n",
        "```sql\n",
        "# Average value from the age column of the customers table.\n",
        "SELECT AVG(age)\n",
        "FROM customers;\n",
        "\n",
        "# Maximum value from the age column of the customers table.\n",
        "SELECT MAX(age)\n",
        "FROM customers;\n",
        "\n",
        "# Sum of the age column of the customers table.\n",
        "SELECT SUM(age)\n",
        "FROM customers;\n",
        "\n",
        "# Min of the age column of the customers table.\n",
        "SELECT MIN(age)\n",
        "FROM customers;\n",
        "```\n",
        "\n",
        "\n"
      ],
      "metadata": {
        "id": "BUrhc8qHOpMw"
      }
    },
    {
      "cell_type": "markdown",
      "source": [
        "### 3.1.1 Aggregate functions with `WHERE`\n",
        "\n",
        "Aggregate functions can be combined with the `WHERE` clause, so that calculations are performed based on desired data filters.\n",
        "\n",
        "```sql\n",
        "# Get the total orders made from customers older than 30\n",
        "SELECT SUM(orders)\n",
        "FROM customers\n",
        "WHERE age >= 30;\n",
        "\n",
        "#Get the number of customers whose names start with the letter 'A'.\n",
        "SELECT COUNT(*)\n",
        "FROM customers\n",
        "WHERE name LIKE 'A%';\n",
        "\n",
        "# Get the amount of orders made from highest buying customers between 20 and 25 yo\n",
        "SELECT MAX(orders)\n",
        "FROM customers\n",
        "WHERE age BETWEEN 20 AND 25;\n",
        "```\n",
        "\n",
        "\n",
        "\n",
        "\n"
      ],
      "metadata": {
        "id": "PZam0B1ISALb"
      }
    },
    {
      "cell_type": "markdown",
      "source": [
        "### 3.1.2. Basic arithmetic operations\n",
        "\n",
        "Arithmetic operators can perform arithmetical operations on numeric operands involved. In essence, you can perform basic arithmetic with symbols like `+`, `-`, `*`, and `/`.\n",
        "\n",
        "! The division operator will always return a number with the a precision similar to the one of the most precise operand. E.g.\n",
        "\n",
        "```sql\n",
        "SELECT (4 / 3);\n",
        ">>> 1\n",
        "\n",
        "SELECT (4.0 / 3.0);\n",
        ">>> 1.333\n",
        "```"
      ],
      "metadata": {
        "id": "BxCWQQMDVhgV"
      }
    },
    {
      "cell_type": "markdown",
      "source": [
        "### 3.1.3 `AS` command\n",
        "\n",
        "The AS command is used to rename a column or table with an alias. An alias only exists for the duration of the query.\n",
        "\n",
        "```sql\n",
        "SELECT MAX(age) AS max_age,\n",
        "       MAX(order) AS max_order\n",
        "FROM customers;\n",
        "```\n",
        "\n",
        "```sql\n",
        "SELECT name,\n",
        "       (order - return) AS net_purchases\n",
        "FROM customers;\n",
        "```"
      ],
      "metadata": {
        "id": "yZu7q3T2X6Eg"
      }
    },
    {
      "cell_type": "markdown",
      "source": [
        "## 3.2 Table manipulation\n",
        "\n",
        "Sort and group tables and results to gain further insight.\n"
      ],
      "metadata": {
        "id": "u1X3UzPOeowK"
      }
    },
    {
      "cell_type": "markdown",
      "source": [
        "\n",
        "#### 3.2.1 `ORDER BY`\n",
        "\n",
        "The `ORDER BY` keyword is used to sort results in ascending or descending order according to the values of one or more columns.\n",
        "\n",
        "By default `ORDER BY` will sort in ascending order. If you want to sort the results in descending order, you can use the `DESC` keyword.\n",
        "\n",
        "```sql\n",
        "SELECT name\n",
        "FROM customers\n",
        "ORDER BY age DESC;\n",
        "\n",
        "\n",
        "SELECT name\n",
        "FROM customers\n",
        "WHERE country IN ('China', 'Taiwan')\n",
        "ORDER BY age;\n",
        "\n",
        "# In descending order\n",
        "SELECT name\n",
        "FROM customers\n",
        "WHERE country IN ('China', 'Taiwan')\n",
        "ORDER BY age DESC;\n",
        "```\n",
        "\n",
        "`ORDER BY` can also be used to sort on multiple columns. It will sort by the first column specified, then sort by the next, then the next, and so on. The order of columns is important.\n",
        "\n",
        "```sql\n",
        "# In descending order\n",
        "SELECT name\n",
        "FROM customers\n",
        "ORDER BY orders, age;\n",
        "```\n",
        "| customer_id | order | age |\n",
        "|-------------|-------|-----|\n",
        "| 123         | 1     | 19  |\n",
        "| 2123        | 1     | 20  |\n",
        "| 12          | 1     | 28  |\n",
        "| 43          | 3     | 15  |\n",
        "| 34          | 3     | 22  |\n",
        "| 123         | 4     | 20  |"
      ],
      "metadata": {
        "id": "5oLO1wr-prqk"
      }
    },
    {
      "cell_type": "markdown",
      "source": [
        "### 3.2.2 `GROUP BY`\n",
        "\n",
        "The GROUP BY clause allows you to group rows based on values of one or more columns. It returns one row for each group.\n",
        "\n",
        "\n",
        "\n",
        "For example, you can group all the males together and count them, and group all the females together and count them:\n",
        "\n",
        "```\n",
        "SELECT gender, COUNT(*)\n",
        "FROM customers\n",
        "GROUP BY gender;\n",
        "```\n",
        "| gender | count |\n",
        "|--------|-------|\n",
        "| male   | 15    |\n",
        "| female | 19    |\n",
        "\n",
        "The `GROUP BY` statement is often used with aggregate functions (`COUNT()`, `MAX(`, `MIN()`, `SUM()`, `AVG()`) to group the result-set by one or more columns.\n",
        "\n",
        "**!** SQL will return an error if you try to `SELECT` a field that is not in your GROUP BY clause without using it to calculate some kind of value about the entire group. Example:\n",
        "```\n",
        "SELECT name, COUNT(*)\n",
        "FROM customers\n",
        "GROUP BY gender;\n",
        ">>> column \"customers.name\" must appear in the GROUP BY clause or be used in an aggregate function\n",
        "LINE 1: SELECT name, COUNT(*)\n",
        "```\n"
      ],
      "metadata": {
        "id": "0JT8Iy5mpktB"
      }
    },
    {
      "cell_type": "markdown",
      "source": [
        "### 3.2.3 `GROUP BY` and `ORDER BY`\n",
        "\n",
        "YOu can combine GROUP BY and ORDER BY with aggregate functions.\n",
        "\n",
        "Make sure to always put the ORDER BY clause at the end of your query (you can't sort values that you haven't calculated yet).\n",
        "\n",
        "```\n",
        "SELECT gender, country, MAX(age)\n",
        "FROM customers\n",
        "GROUP BY order, gender\n",
        "ORDER BY order, gender;\n",
        "```\n",
        "\n",
        "| order | gender | order |\n",
        "|-------|--------|-------|\n",
        "| 3     |    M   |   76  |\n",
        "| 3     |    F   |   58  |\n",
        "| 12    |    M   |   45  |\n",
        "| 12    |   F    |  35   |\n",
        "| 34    |   M    |   24  |\n",
        "| 34    |   F    |   19  |\n",
        "\n",
        "In essence, the fields that are `SELECT`ed and not aggregated (e.g. `COUNT`), must be part of the GROUP BY clause.\n"
      ],
      "metadata": {
        "id": "7Zi39BK52lHi"
      }
    },
    {
      "cell_type": "markdown",
      "source": [
        "### 3.2.4 `HAVING` clause\n",
        "\n",
        "The HAVING clause was added to SQL because the `WHERE` keyword cannot be used with aggregate functions.\n",
        "\n",
        "```sql\n",
        "WHERE COUNT(age) >= 18; -- Nope\n",
        "HAVING COUNT(age) >= 18; -- Yope\n",
        "```\n",
        "\n",
        "For example, if you wanted to group all the  adult males together and count them, and group all the adult females together and count them, you would need to do the following:\n",
        "\n",
        "```sql\n",
        "-- WHERE can't be used with aggregate functions:\n",
        "SELECT gender, COUNT(*)\n",
        "FROM customers\n",
        "GROUP BY gender\n",
        "WHERE COUNT(age) >= 18;\n",
        ">>> ERROR\n",
        "\n",
        "-- HAVING can be used with aggregate functions:\n",
        "SELECT gender, COUNT(*)\n",
        "FROM customers\n",
        "GROUP BY gender\n",
        "HAVING COUNT(age) >= 18;\n",
        "```\n",
        "Notice that `HAVING` needs to take place after `GROUP BY` operations.\n"
      ],
      "metadata": {
        "id": "4M6Pka1H5G1E"
      }
    },
    {
      "cell_type": "markdown",
      "source": [
        "## 3.3 Bigger Queries\n"
      ],
      "metadata": {
        "id": "BfYjjhEV_nOj"
      }
    },
    {
      "cell_type": "markdown",
      "source": [
        "\n",
        "### 3.3.1 Big Query\n",
        "\n",
        "A real-world example may be: get the country, average age, and average orders of countries that have made more than 10 customers. Order the result by country name, and limit the number of results displayed to 5. You should alias the averages as avg_age and avg_orders respectively.\n",
        "\n",
        "```sql\n",
        "SELECT country,\n",
        "       AVG(age) AS avg_age,\n",
        "       AVG(order) AS avg_orders\n",
        "FROM customers\n",
        "GROUP BY country\n",
        "HAVING COUNT(country) > 10\n",
        "ORDER BY country\n",
        "LIMIT 5;\n",
        "```\n",
        "SQL basically provides you a bunch of building blocks that you can combine in all kinds of ways."
      ],
      "metadata": {
        "id": "xXFjTfNXAel8"
      }
    },
    {
      "cell_type": "markdown",
      "source": [
        "\n",
        "### 3.3.2 Quering multiple tables\n",
        "\n",
        "In the real world you will often want to query multiple tables. For example, what if you want to see the number of orders score for a customer that exists in the customer table of a banks' credit score.\n",
        "\n",
        "In this case, you'd want to get the ID of the customer from the customers table and then use it to get credit score information from the banks table. In SQL, this concept is known as a **join**, and a basic join is shown in the editor to the right.\n",
        "\n",
        "```sql\n",
        "SELECT name, credit_score\n",
        "FROM customers\n",
        "JOIN banks\n",
        "ON customers.id = banks.customer_id\n",
        "WHERE name = 'Yuv Binponned';\n",
        "```\n"
      ],
      "metadata": {
        "id": "97wovgvOAfNO"
      }
    },
    {
      "cell_type": "markdown",
      "source": [
        "## 3.4 SQL Flavours\n",
        "\n",
        "- Free or paid\n",
        "- All used with relational databasses\n",
        "- Keywords are the same\n",
        "- Must follow universal standards\n",
        "- Additions on top of these standards make flavours different\n",
        "\n",
        "Some flavours:\n",
        "1. 3.1 PostgreSQL (University California Berkeley and DARPA)\n",
        "2. SQL Servers (Microsoft)\n",
        "\n",
        "```sql\n",
        "-- PostgreSQL\n",
        "SELECT id, name\n",
        "FROM customers\n",
        "LIMIT 2;\n",
        "\n",
        "-- SQL Server\n",
        "SELECT id, name\n",
        "FROM customers\n",
        "TOP 2;\n",
        "```\n"
      ],
      "metadata": {
        "id": "tS7xcleZxQ34"
      }
    }
  ]
}
