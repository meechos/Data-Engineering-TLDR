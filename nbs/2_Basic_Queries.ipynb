{
  "nbformat": 4,
  "nbformat_minor": 0,
  "metadata": {
    "colab": {
      "provenance": [],
      "toc_visible": true
    },
    "kernelspec": {
      "name": "python3",
      "display_name": "Python 3"
    },
    "language_info": {
      "name": "python"
    }
  },
  "cells": [
    {
      "cell_type": "markdown",
      "source": [
        "## 2. SQL Basic Queries\n"
      ],
      "metadata": {
        "id": "FI1XgJGTWtt4"
      }
    },
    {
      "cell_type": "markdown",
      "source": [
        "\n",
        "### 2.1 Aliasing \n",
        "\n",
        "For brevity and/or clarity we rename columns using aliasing.\n",
        "\n",
        "```\n",
        "SELECT name AS first_name, surname\n",
        "FROM customers;\n",
        "```\n"
      ],
      "metadata": {
        "id": "QoHZj0QE4wBM"
      }
    },
    {
      "cell_type": "markdown",
      "source": [
        "\n",
        "### 2.2 Selecting distinct records\n",
        "\n",
        "Often your results will include many duplicate values. If you want to select all the unique values from a column, you can use the DISTINCT keyword.\n",
        "\n",
        "Get a list of a field with no repeat values use:\n",
        "\n",
        "```\n",
        "SELECT DISTINCT year\n",
        "FROM customers;\n",
        "```\n"
      ],
      "metadata": {
        "id": "e_n7Ae1D4xtu"
      }
    },
    {
      "cell_type": "markdown",
      "source": [
        "### 2.3 Count\n",
        "\n",
        "The `COUNT()` function returns the total number of `non-missing` rows in one or more columns.\n",
        "\n",
        "```\n",
        "# Return number of rows in the customers table.\n",
        "SELECT COUNT(*)\n",
        "FROM customers;\n",
        "```\n",
        "\n",
        "`COUNT(*)` tells you how many rows are in a table, including missing values in particular columns. However, if you want to count the number of non-missing values in a particular column, you can call `COUNT()` on just that column.\n",
        "\n",
        "```\n",
        "# Count the number of birth dates present in the customers table:\n",
        "SELECT COUNT(birthdate)\n",
        "FROM customers;\n",
        "\n",
        "# Count the number of distinct birth dates present in the customers table:\n",
        "SELECT COUNT(DISTINCT birthdate)\n",
        "FROM customers;\n",
        "```\n"
      ],
      "metadata": {
        "id": "-aOfC8PdoB4y"
      }
    },
    {
      "cell_type": "markdown",
      "source": [
        "### 2.3 Filtering \n"
      ],
      "metadata": {
        "id": "iPxvqP9ouNhQ"
      }
    },
    {
      "cell_type": "markdown",
      "source": [
        "\n",
        "#### 2.3.1 `WHERE` clause\n",
        "In SQL, the `WHERE` keyword allows you to filter based on both text and numeric values in a table. There are a few different comparison operators you can use:\n",
        "\n",
        "* `=` equal\n",
        "* `<>` not equal\n",
        "* `<` less than\n",
        "* `>` greater than\n",
        "* `<=` less than or equal to\n",
        "* `>=` greater than or equal to\n",
        "\n",
        "For example, you can filter records based on criteria such as age. The following code returns all customers with age `30`:\n",
        "\n",
        "```\n",
        "# All records for customers age 30\n",
        "SELECT *\n",
        "FROM customers\n",
        "WHERE age = 30;\n",
        "\n",
        "# Number of customers above the age of 30\n",
        "SELECT COUNT(*)\n",
        "FROM films\n",
        "WHERE age > 30;\n",
        "```\n",
        "Notice that the `WHERE` clause always comes after the `FROM` statement.\n",
        "\n",
        "The `WHERE` clause can also be used to filter text results, such as names or countries.\n",
        "\n",
        "For example, this query gets the customers which were located in China:\n",
        "```\n",
        "SELECT *\n",
        "FROM films\n",
        "WHERE country = 'China';\n",
        "```\n",
        "*Important: in PostgreSQL (the version of SQL we're using), you must use single quotes with WHERE.*\n"
      ],
      "metadata": {
        "id": "qk38g2k5AOMx"
      }
    },
    {
      "cell_type": "markdown",
      "source": [
        "\n",
        "#### 2.3.2 `WHERE AND` clause\n",
        "\n",
        "To select data based on multiple conditions. You can build up your WHERE queries by combining multiple conditions with the AND keyword.\n",
        "\n",
        "\n",
        "```\n",
        "# All records for customers in China and 30 years of age\n",
        "SELECT *\n",
        "FROM customers\n",
        "WHERE age = 30\n",
        "AND country = 'China';\n",
        "```\n",
        "\n",
        "Note that \n",
        "- you need to specify the column name separately for every `AND` condition\n",
        "- you can add as many AND conditions as you need\n",
        "\n"
      ],
      "metadata": {
        "id": "MLU1NQYPASKP"
      }
    },
    {
      "cell_type": "markdown",
      "source": [
        "#### 2.3.3 `WHERE AND OR` clause\n",
        "\n",
        "SQL has the `OR` operator in order to select rows based on multiple conditions where some but not all of the conditions need to be met.\n",
        "\n",
        "```\n",
        "SELECT *\n",
        "FROM customers\n",
        "WHERE country = 'China' \n",
        "OR country = 'Taiwan'\n",
        "```\n",
        "\n",
        " - you need to specify the column for every OR condition\n",
        " - when combining `AND` and `OR`, be sure to enclose the individual clauses in parentheses\n",
        "\n",
        "```\n",
        "SELECT name\n",
        "FROM customers\n",
        "WHERE (country = 'China' OR country = 'Taiwan')\n",
        "AND (age = 30 OR age = 40);\n",
        "```\n"
      ],
      "metadata": {
        "id": "E_HC_HR6AVfc"
      }
    },
    {
      "cell_type": "markdown",
      "source": [
        "\n",
        "#### 2.3.4 `BETWEEN` clause\n",
        "\n",
        "Checking for ranges is very common, so in SQL the `BETWEEN` keyword provides a useful shorthand for filtering values within a specified range. \n",
        "```\n",
        "# Number of customers between 30 and 40 years of age\n",
        "SELECT COUNT(*)\n",
        "FROM films\n",
        "WHERE age > 30 \n",
        "AND age <= 40;\n",
        "\n",
        "# Same result as above with different expression\n",
        "SELECT COUNT(*)\n",
        "FROM films\n",
        "WHERE age \n",
        "BETWEEN 30 AND 40;\n",
        "```\n",
        "`BETWEEN` is inclusive, meaning the beginning and end values are included in the results.\n",
        "\n"
      ],
      "metadata": {
        "id": "HsgmVfR3AcKm"
      }
    },
    {
      "cell_type": "markdown",
      "source": [
        "#### 2.3.4 `WHERE IN` clause\n",
        "\n",
        "WHERE is very useful for filtering results. However, if you want to filter based on many conditions, WHERE can get unwieldy. For example:\n",
        "\n",
        "```\n",
        "SELECT name\n",
        "FROM customers\n",
        "WHERE age = 20\n",
        "OR age = 40\n",
        "OR age = 60\n",
        "OR age = 80\n",
        "OR age = 100;\n",
        "```\n",
        "The `IN` operator allows to specify multiple values in a `WHERE` clause, making it easier and quicker to specify multiple OR conditions.\n",
        "\n",
        "```\n",
        "SELECT name\n",
        "FROM customers\n",
        "WHERE age IN (20, 40, 60, 80, 100);\n",
        "```\n",
        "\n"
      ],
      "metadata": {
        "id": "4a76ykZCAeNY"
      }
    },
    {
      "cell_type": "markdown",
      "source": [
        "#### 2.3.5 `NULL` and `IS NULL`\n",
        "\n",
        "In SQL, `NULL` represents a missing or unknown value. You can check for `NULL` values using the expression `IS NULL`. For example, to count the number of missing age values in the customers table:\n",
        "\n",
        "``` \n",
        "SELECT COUNT(*)\n",
        "FROM customers\n",
        "WHERE age IS NULL;\n",
        "```\n",
        "To filter out missing values so you only get results which are not NULL, you can use the IS `IS NOT NULL` operator.\n",
        "\n",
        "\n",
        "``` \n",
        "SELECT COUNT(*)\n",
        "FROM customers\n",
        "WHERE age IS NOT NULL;\n",
        "```\n"
      ],
      "metadata": {
        "id": "I2prEK8sAf5K"
      }
    },
    {
      "cell_type": "markdown",
      "source": [
        "\n",
        "#### 2.3.6 `LIKE` and `NOT LIKE`\n",
        "\n",
        "To search for a pattern rather than a specific text string. The `LIKE` operator can be used in a `WHERE` clause to search for a pattern in a column. To accomplish this, you use something called a wildcard as a placeholder for some other values. There are two wildcards you can use with `LIKE`:\n",
        "\n",
        "- The `%` wildcard will match zero, one, or many characters in text. For example, the following query matches countries like 'China', 'Columbia' 'Canada' and so on: \\\n",
        "```\n",
        "SELECT *\n",
        "FROM customers\n",
        "WHERE country LIKE 'C%';\n",
        "```\n",
        "\n",
        "- The `_` wildcard will match a single character. For example, the following query matches countries whose names have 'r' as the second letter like 'Greece', 'SriLanka', and so on:\n",
        "```\n",
        "SELECT name\n",
        "FROM companies\n",
        "WHERE name LIKE '_r';\n",
        "```\n",
        "\n",
        "You can also use the `NOT LIKE` operator to find records that don't match the pattern you specify.\n",
        "\n",
        "> ❗️The `%` and `_` wildcards work only in combination with the `LIKE` clause."
      ],
      "metadata": {
        "id": "YlMKaEzAAhrE"
      }
    },
    {
      "cell_type": "markdown",
      "source": [
        "\n",
        "## 2.4 Views\n",
        "\n",
        "- A view is a virtual table that is the result of a saved SQL `SELECT` statement.\n",
        "- A virtual table is not stored in the database but rather the Query code that is stored for future use.\n",
        "- When accessed, views automatically update in response to updates in the underlying data.\n",
        "\n",
        "```\n",
        "CREATE VIEW customer_purchase_year AS\n",
        "SELECT id, name, year_purchased\n",
        "FROM customers;\n",
        "```\n",
        "\n",
        "Once created, we can query a virtual table just as we would a normal table by selecting `FROM` the view.\n"
      ],
      "metadata": {
        "id": "OGMVURmF40aO"
      }
    }
  ]
}