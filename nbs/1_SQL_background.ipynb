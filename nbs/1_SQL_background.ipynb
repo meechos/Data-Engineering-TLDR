{
  "nbformat": 4,
  "nbformat_minor": 0,
  "metadata": {
    "colab": {
      "provenance": []
    },
    "kernelspec": {
      "name": "python3",
      "display_name": "Python 3"
    },
    "language_info": {
      "name": "python"
    }
  },
  "cells": [
    {
      "cell_type": "markdown",
      "source": [
        "# SQL Background\n",
        "\n"
      ],
      "metadata": {
        "id": "Hvl63Cwx9IAm"
      }
    },
    {
      "cell_type": "markdown",
      "source": [
        "## 1 Databases \n",
        "\n",
        "Pros compared to spreadsheet:\n",
        "- You can store more data\n",
        "- Privacy because of encryption\n",
        "- Multiple users can query the data at the same time (accessed and presented)"
      ],
      "metadata": {
        "id": "VJw1CQye3YQp"
      }
    },
    {
      "cell_type": "markdown",
      "source": [
        "### 1.1 Relational databases\n",
        "\n",
        "A database structured to recognize relations among stored items of information. You can think of a relational database as a collection of tables. A table is just a set of rows and columns, like a spreadsheet, which represents exactly one type of entity. For example, a table might represent employees in a company or purchases made, but not both.\n"
      ],
      "metadata": {
        "id": "KKyJBHCV4JYw"
      }
    },
    {
      "cell_type": "markdown",
      "source": [
        "\n",
        "### 1.2 Tables \n",
        "\n",
        "\n",
        "Data organised as rows (records) and columns (fields). Each row, or record, of a table contains information about a single entity. For example, in a table representing employees, each row represents a single person. Each column, or field, of a table contains a single attribute for all rows in the table. For example, in a table representing employees, we might have a column containing first and last names for all employees.\n",
        "\n",
        "- field names should be lowercase\n",
        "- field names should have no spaces (underscore)\n",
        "- field names should be singular\n",
        "- must pick a unique identifier (identifies a record so that it can be distinguished from other records in the same table)\n",
        "- the more tables the merrier (avoids duplicates as in a large combined table)\n"
      ],
      "metadata": {
        "id": "VZYt3VMU9P0_"
      }
    },
    {
      "cell_type": "markdown",
      "source": [
        "\n",
        "### 1.3 SQL Data Types\n",
        "- Different data types are stored differently and take up different space\n",
        "- Certain operations only apply to certain data types\n",
        "- `VARCHART` flexible string data type that holds small or large string sequences, but SQL offers different strin gdata types depending on the string length\n",
        "- `INT` flexible integer data type that holds small or large integers, but SQL offers different integer data types depending on the integer length\n",
        "- `NUMERIC` flexible float data type that holds small or large float, but SQL offers different float data types depending on the float length\n"
      ],
      "metadata": {
        "id": "2LVo2ovN4TFM"
      }
    },
    {
      "cell_type": "markdown",
      "source": [
        "\n",
        "### 1.4 Schemas\n",
        "\n",
        "Shows a databases design including tables that are included in the database and the relations between those tables.\n"
      ],
      "metadata": {
        "id": "E3z3VUOK4Mwp"
      }
    },
    {
      "cell_type": "markdown",
      "source": [
        "\n",
        "### 1.5 Database storage\n",
        "\n",
        "Data are stored on servers, which are centralised computers that perform services via requests made over a network."
      ],
      "metadata": {
        "id": "zdwzV6pD4ZCE"
      }
    },
    {
      "cell_type": "code",
      "execution_count": null,
      "metadata": {
        "id": "xUNMffxG9HIb"
      },
      "outputs": [],
      "source": [
        "# Return title and author fields from poems table\n",
        "SELECT title, author\n",
        "FROM poems;\n",
        "\n",
        "# Return all fields from poems table\n",
        "SELECT *\n",
        "FROM poems;"
      ]
    }
  ]
}